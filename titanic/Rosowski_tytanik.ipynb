{
 "cells": [
  {
   "cell_type": "markdown",
   "metadata": {
    "id": "uFVh9rUJfdJ7"
   },
   "source": [
    "Neural Network - cz. 1 Analiza Danych"
   ]
  },
  {
   "cell_type": "code",
   "execution_count": 3,
   "metadata": {},
   "outputs": [],
   "source": [
    "import pandas as pd\n",
    "import numpy as np\n",
    "import seaborn as sns"
   ]
  },
  {
   "cell_type": "code",
   "execution_count": 4,
   "metadata": {
    "id": "O8R0Zb5shG-I"
   },
   "outputs": [],
   "source": [
    "## Zad. 1 Pobierz z zakładki data train oraz test.csv\n",
    "## https://www.kaggle.com/competitions/titanic/data\n",
    "## oraz stwórz z nich jeden dataFrame w pandas\n",
    "data = pd.read_csv(\"./train.csv\", sep=\",\")"
   ]
  },
  {
   "cell_type": "code",
   "execution_count": 5,
   "metadata": {
    "id": "tOO3S2e1mXUO"
   },
   "outputs": [
    {
     "name": "stdout",
     "output_type": "stream",
     "text": [
      "<class 'pandas.core.frame.DataFrame'>\n",
      "RangeIndex: 891 entries, 0 to 890\n",
      "Data columns (total 12 columns):\n",
      " #   Column       Non-Null Count  Dtype  \n",
      "---  ------       --------------  -----  \n",
      " 0   PassengerId  891 non-null    int64  \n",
      " 1   Survived     891 non-null    int64  \n",
      " 2   Pclass       891 non-null    int64  \n",
      " 3   Name         891 non-null    object \n",
      " 4   Sex          891 non-null    object \n",
      " 5   Age          714 non-null    float64\n",
      " 6   SibSp        891 non-null    int64  \n",
      " 7   Parch        891 non-null    int64  \n",
      " 8   Ticket       891 non-null    object \n",
      " 9   Fare         891 non-null    float64\n",
      " 10  Cabin        204 non-null    object \n",
      " 11  Embarked     889 non-null    object \n",
      "dtypes: float64(2), int64(5), object(5)\n",
      "memory usage: 83.7+ KB\n",
      "None\n"
     ]
    },
    {
     "data": {
      "text/html": [
       "<div>\n",
       "<style scoped>\n",
       "    .dataframe tbody tr th:only-of-type {\n",
       "        vertical-align: middle;\n",
       "    }\n",
       "\n",
       "    .dataframe tbody tr th {\n",
       "        vertical-align: top;\n",
       "    }\n",
       "\n",
       "    .dataframe thead th {\n",
       "        text-align: right;\n",
       "    }\n",
       "</style>\n",
       "<table border=\"1\" class=\"dataframe\">\n",
       "  <thead>\n",
       "    <tr style=\"text-align: right;\">\n",
       "      <th></th>\n",
       "      <th>PassengerId</th>\n",
       "      <th>Survived</th>\n",
       "      <th>Pclass</th>\n",
       "      <th>Name</th>\n",
       "      <th>Sex</th>\n",
       "      <th>Age</th>\n",
       "      <th>SibSp</th>\n",
       "      <th>Parch</th>\n",
       "      <th>Ticket</th>\n",
       "      <th>Fare</th>\n",
       "      <th>Cabin</th>\n",
       "      <th>Embarked</th>\n",
       "    </tr>\n",
       "  </thead>\n",
       "  <tbody>\n",
       "    <tr>\n",
       "      <th>0</th>\n",
       "      <td>1</td>\n",
       "      <td>0</td>\n",
       "      <td>3</td>\n",
       "      <td>Braund, Mr. Owen Harris</td>\n",
       "      <td>male</td>\n",
       "      <td>22.0</td>\n",
       "      <td>1</td>\n",
       "      <td>0</td>\n",
       "      <td>A/5 21171</td>\n",
       "      <td>7.2500</td>\n",
       "      <td>NaN</td>\n",
       "      <td>S</td>\n",
       "    </tr>\n",
       "    <tr>\n",
       "      <th>1</th>\n",
       "      <td>2</td>\n",
       "      <td>1</td>\n",
       "      <td>1</td>\n",
       "      <td>Cumings, Mrs. John Bradley (Florence Briggs Th...</td>\n",
       "      <td>female</td>\n",
       "      <td>38.0</td>\n",
       "      <td>1</td>\n",
       "      <td>0</td>\n",
       "      <td>PC 17599</td>\n",
       "      <td>71.2833</td>\n",
       "      <td>C85</td>\n",
       "      <td>C</td>\n",
       "    </tr>\n",
       "    <tr>\n",
       "      <th>2</th>\n",
       "      <td>3</td>\n",
       "      <td>1</td>\n",
       "      <td>3</td>\n",
       "      <td>Heikkinen, Miss. Laina</td>\n",
       "      <td>female</td>\n",
       "      <td>26.0</td>\n",
       "      <td>0</td>\n",
       "      <td>0</td>\n",
       "      <td>STON/O2. 3101282</td>\n",
       "      <td>7.9250</td>\n",
       "      <td>NaN</td>\n",
       "      <td>S</td>\n",
       "    </tr>\n",
       "    <tr>\n",
       "      <th>3</th>\n",
       "      <td>4</td>\n",
       "      <td>1</td>\n",
       "      <td>1</td>\n",
       "      <td>Futrelle, Mrs. Jacques Heath (Lily May Peel)</td>\n",
       "      <td>female</td>\n",
       "      <td>35.0</td>\n",
       "      <td>1</td>\n",
       "      <td>0</td>\n",
       "      <td>113803</td>\n",
       "      <td>53.1000</td>\n",
       "      <td>C123</td>\n",
       "      <td>S</td>\n",
       "    </tr>\n",
       "    <tr>\n",
       "      <th>4</th>\n",
       "      <td>5</td>\n",
       "      <td>0</td>\n",
       "      <td>3</td>\n",
       "      <td>Allen, Mr. William Henry</td>\n",
       "      <td>male</td>\n",
       "      <td>35.0</td>\n",
       "      <td>0</td>\n",
       "      <td>0</td>\n",
       "      <td>373450</td>\n",
       "      <td>8.0500</td>\n",
       "      <td>NaN</td>\n",
       "      <td>S</td>\n",
       "    </tr>\n",
       "  </tbody>\n",
       "</table>\n",
       "</div>"
      ],
      "text/plain": [
       "   PassengerId  Survived  Pclass  \\\n",
       "0            1         0       3   \n",
       "1            2         1       1   \n",
       "2            3         1       3   \n",
       "3            4         1       1   \n",
       "4            5         0       3   \n",
       "\n",
       "                                                Name     Sex   Age  SibSp  \\\n",
       "0                            Braund, Mr. Owen Harris    male  22.0      1   \n",
       "1  Cumings, Mrs. John Bradley (Florence Briggs Th...  female  38.0      1   \n",
       "2                             Heikkinen, Miss. Laina  female  26.0      0   \n",
       "3       Futrelle, Mrs. Jacques Heath (Lily May Peel)  female  35.0      1   \n",
       "4                           Allen, Mr. William Henry    male  35.0      0   \n",
       "\n",
       "   Parch            Ticket     Fare Cabin Embarked  \n",
       "0      0         A/5 21171   7.2500   NaN        S  \n",
       "1      0          PC 17599  71.2833   C85        C  \n",
       "2      0  STON/O2. 3101282   7.9250   NaN        S  \n",
       "3      0            113803  53.1000  C123        S  \n",
       "4      0            373450   8.0500   NaN        S  "
      ]
     },
     "execution_count": 5,
     "metadata": {},
     "output_type": "execute_result"
    }
   ],
   "source": [
    "## Zad. 2 Wyświetl pierwsze 20 wierszy, aby obejrzeć dane oraz korzystając z gotowych funkcji pandas wyświetl podstawowe informacje o df\n",
    "print(data.info())\n",
    "data.head()"
   ]
  },
  {
   "cell_type": "code",
   "execution_count": 6,
   "metadata": {
    "id": "F3mwyjvnoeD8"
   },
   "outputs": [
    {
     "data": {
      "text/plain": [
       "PassengerId      0\n",
       "Survived         0\n",
       "Pclass           0\n",
       "Name             0\n",
       "Sex              0\n",
       "Age            177\n",
       "SibSp            0\n",
       "Parch            0\n",
       "Ticket           0\n",
       "Fare             0\n",
       "Cabin          687\n",
       "Embarked         2\n",
       "dtype: int64"
      ]
     },
     "execution_count": 6,
     "metadata": {},
     "output_type": "execute_result"
    }
   ],
   "source": [
    "## Zad. 3 Dla każdej z kolumn wyświetl liczbę wartości nullowych (w ten sposób oceniamy jakość danych kolumn)\n",
    "data.isnull().sum()"
   ]
  },
  {
   "cell_type": "code",
   "execution_count": 7,
   "metadata": {
    "id": "p-37unN_or6H"
   },
   "outputs": [
    {
     "data": {
      "text/html": [
       "<div>\n",
       "<style scoped>\n",
       "    .dataframe tbody tr th:only-of-type {\n",
       "        vertical-align: middle;\n",
       "    }\n",
       "\n",
       "    .dataframe tbody tr th {\n",
       "        vertical-align: top;\n",
       "    }\n",
       "\n",
       "    .dataframe thead th {\n",
       "        text-align: right;\n",
       "    }\n",
       "</style>\n",
       "<table border=\"1\" class=\"dataframe\">\n",
       "  <thead>\n",
       "    <tr style=\"text-align: right;\">\n",
       "      <th></th>\n",
       "      <th>PassengerId</th>\n",
       "      <th>Survived</th>\n",
       "      <th>Pclass</th>\n",
       "      <th>Age</th>\n",
       "      <th>SibSp</th>\n",
       "      <th>Parch</th>\n",
       "      <th>Fare</th>\n",
       "    </tr>\n",
       "  </thead>\n",
       "  <tbody>\n",
       "    <tr>\n",
       "      <th>count</th>\n",
       "      <td>891.000000</td>\n",
       "      <td>891.000000</td>\n",
       "      <td>891.000000</td>\n",
       "      <td>714.000000</td>\n",
       "      <td>891.000000</td>\n",
       "      <td>891.000000</td>\n",
       "      <td>891.000000</td>\n",
       "    </tr>\n",
       "    <tr>\n",
       "      <th>mean</th>\n",
       "      <td>446.000000</td>\n",
       "      <td>0.383838</td>\n",
       "      <td>2.308642</td>\n",
       "      <td>29.699118</td>\n",
       "      <td>0.523008</td>\n",
       "      <td>0.381594</td>\n",
       "      <td>32.204208</td>\n",
       "    </tr>\n",
       "    <tr>\n",
       "      <th>std</th>\n",
       "      <td>257.353842</td>\n",
       "      <td>0.486592</td>\n",
       "      <td>0.836071</td>\n",
       "      <td>14.526497</td>\n",
       "      <td>1.102743</td>\n",
       "      <td>0.806057</td>\n",
       "      <td>49.693429</td>\n",
       "    </tr>\n",
       "    <tr>\n",
       "      <th>min</th>\n",
       "      <td>1.000000</td>\n",
       "      <td>0.000000</td>\n",
       "      <td>1.000000</td>\n",
       "      <td>0.420000</td>\n",
       "      <td>0.000000</td>\n",
       "      <td>0.000000</td>\n",
       "      <td>0.000000</td>\n",
       "    </tr>\n",
       "    <tr>\n",
       "      <th>25%</th>\n",
       "      <td>223.500000</td>\n",
       "      <td>0.000000</td>\n",
       "      <td>2.000000</td>\n",
       "      <td>20.125000</td>\n",
       "      <td>0.000000</td>\n",
       "      <td>0.000000</td>\n",
       "      <td>7.910400</td>\n",
       "    </tr>\n",
       "    <tr>\n",
       "      <th>50%</th>\n",
       "      <td>446.000000</td>\n",
       "      <td>0.000000</td>\n",
       "      <td>3.000000</td>\n",
       "      <td>28.000000</td>\n",
       "      <td>0.000000</td>\n",
       "      <td>0.000000</td>\n",
       "      <td>14.454200</td>\n",
       "    </tr>\n",
       "    <tr>\n",
       "      <th>75%</th>\n",
       "      <td>668.500000</td>\n",
       "      <td>1.000000</td>\n",
       "      <td>3.000000</td>\n",
       "      <td>38.000000</td>\n",
       "      <td>1.000000</td>\n",
       "      <td>0.000000</td>\n",
       "      <td>31.000000</td>\n",
       "    </tr>\n",
       "    <tr>\n",
       "      <th>max</th>\n",
       "      <td>891.000000</td>\n",
       "      <td>1.000000</td>\n",
       "      <td>3.000000</td>\n",
       "      <td>80.000000</td>\n",
       "      <td>8.000000</td>\n",
       "      <td>6.000000</td>\n",
       "      <td>512.329200</td>\n",
       "    </tr>\n",
       "  </tbody>\n",
       "</table>\n",
       "</div>"
      ],
      "text/plain": [
       "       PassengerId    Survived      Pclass         Age       SibSp  \\\n",
       "count   891.000000  891.000000  891.000000  714.000000  891.000000   \n",
       "mean    446.000000    0.383838    2.308642   29.699118    0.523008   \n",
       "std     257.353842    0.486592    0.836071   14.526497    1.102743   \n",
       "min       1.000000    0.000000    1.000000    0.420000    0.000000   \n",
       "25%     223.500000    0.000000    2.000000   20.125000    0.000000   \n",
       "50%     446.000000    0.000000    3.000000   28.000000    0.000000   \n",
       "75%     668.500000    1.000000    3.000000   38.000000    1.000000   \n",
       "max     891.000000    1.000000    3.000000   80.000000    8.000000   \n",
       "\n",
       "            Parch        Fare  \n",
       "count  891.000000  891.000000  \n",
       "mean     0.381594   32.204208  \n",
       "std      0.806057   49.693429  \n",
       "min      0.000000    0.000000  \n",
       "25%      0.000000    7.910400  \n",
       "50%      0.000000   14.454200  \n",
       "75%      0.000000   31.000000  \n",
       "max      6.000000  512.329200  "
      ]
     },
     "execution_count": 7,
     "metadata": {},
     "output_type": "execute_result"
    }
   ],
   "source": [
    "## Analiza cech\n",
    "data.describe()"
   ]
  },
  {
   "cell_type": "code",
   "execution_count": 8,
   "metadata": {
    "id": "hkrdciSFr0to"
   },
   "outputs": [],
   "source": [
    "## Zad. 4 Za pomocą gotowej funkcji pandas zbadaj korelację między kolumnami\n",
    "data.corr(numeric_only=True)\n",
    "## Tu wpisz kolumnę, która na pewno nie będzie miała korelacji PassegnerId <--- Wyrzuć ją z df\n",
    "# Remove PassengerId from data\n",
    "data.drop(labels=[\"PassengerId\"], axis=1, inplace=True)"
   ]
  },
  {
   "cell_type": "code",
   "execution_count": 9,
   "metadata": {
    "id": "gEM4ePl-sDqk"
   },
   "outputs": [
    {
     "data": {
      "text/plain": [
       "<AxesSubplot: >"
      ]
     },
     "execution_count": 9,
     "metadata": {},
     "output_type": "execute_result"
    },
    {
     "data": {
      "image/png": "[encoded data removed]",
      "text/plain": [
       "<Figure size 640x480 with 2 Axes>"
      ]
     },
     "metadata": {},
     "output_type": "display_data"
    }
   ],
   "source": [
    "## Zad. 5 Za pomocą biblioteki seaborn (później nazywaną sns) wyświetl wykres Heatmap z danymi wygenerowanymi w punkcie 4\n",
    "sns.heatmap(data.corr(numeric_only=True), annot=True)"
   ]
  },
  {
   "cell_type": "raw",
   "metadata": {
    "id": "j_GG98e_sfeD"
   },
   "source": [
    "## Zad. 6 Opisz dane słownie z zadania 5 i wyciągnij wnioski\n",
    "Niekture dane mają duże znaczenie dla śmiertelności, niż inne"
   ]
  },
  {
   "cell_type": "code",
   "execution_count": 10,
   "metadata": {
    "id": "uhqaK_JNs5ld"
   },
   "outputs": [
    {
     "data": {
      "text/plain": [
       "<AxesSubplot: xlabel='Pclass', ylabel='count'>"
      ]
     },
     "execution_count": 10,
     "metadata": {},
     "output_type": "execute_result"
    },
    {
     "data": {
      "image/png": "[encoded data removed]",
      "text/plain": [
       "<Figure size 640x480 with 1 Axes>"
      ]
     },
     "metadata": {},
     "output_type": "display_data"
    }
   ],
   "source": [
    "## Zad 7. Za pomocą sns wyświetl wykres słupkowy, który zliczy liczbę osób per każda Pclass (Passenger Class) + słowne wnioski\n",
    "sns.countplot(x=\"Pclass\", data=data)\n",
    "\n",
    "# Więcej osób było biedakami niż bogatymi"
   ]
  },
  {
   "cell_type": "code",
   "execution_count": 11,
   "metadata": {
    "id": "_qLYQ-iqtU--"
   },
   "outputs": [
    {
     "data": {
      "text/plain": [
       "<AxesSubplot: xlabel='Pclass', ylabel='Survived'>"
      ]
     },
     "execution_count": 11,
     "metadata": {},
     "output_type": "execute_result"
    },
    {
     "data": {
      "image/png": "[encoded data removed]",
      "text/plain": [
       "<Figure size 640x480 with 1 Axes>"
      ]
     },
     "metadata": {},
     "output_type": "display_data"
    }
   ],
   "source": [
    "## Zad 8. Za pomocą sns wyświetl wykres słupkowy, który przestawi prawdopodobieństwo przeżycia per każda Pclass (Passenger Class) + słowne wnioski\n",
    "sns.barplot(x=\"Pclass\", y=\"Survived\", data=data)\n",
    "\n",
    "# Wnioskuję, iż istnieje duża szansa na to że ktoś z klasy wyższej przeżyje bardziej,\n",
    "# niż z klasy niższej"
   ]
  },
  {
   "cell_type": "code",
   "execution_count": 12,
   "metadata": {
    "id": "Z0C-RghFtqxF"
   },
   "outputs": [
    {
     "data": {
      "text/plain": [
       "<AxesSubplot: xlabel='Sex', ylabel='count'>"
      ]
     },
     "execution_count": 12,
     "metadata": {},
     "output_type": "execute_result"
    },
    {
     "data": {
      "image/png": "[encoded data removed]",
      "text/plain": [
       "<Figure size 640x480 with 1 Axes>"
      ]
     },
     "metadata": {},
     "output_type": "display_data"
    }
   ],
   "source": [
    "## Zad 9. Za pomocą sns wyświetl wykres słupkowy, który zliczy liczbę osób per każda płeć + słowne wnioski\n",
    "sns.countplot(x=\"Sex\", data=data)\n",
    "\n",
    "# Więcej mężczyzn niż kobiet"
   ]
  },
  {
   "cell_type": "code",
   "execution_count": 13,
   "metadata": {
    "id": "3GoRTX9ttulX"
   },
   "outputs": [
    {
     "data": {
      "text/plain": [
       "<AxesSubplot: xlabel='Sex', ylabel='Survived'>"
      ]
     },
     "execution_count": 13,
     "metadata": {},
     "output_type": "execute_result"
    },
    {
     "data": {
      "image/png": "[encoded data removed]",
      "text/plain": [
       "<Figure size 640x480 with 1 Axes>"
      ]
     },
     "metadata": {},
     "output_type": "display_data"
    }
   ],
   "source": [
    "## Zad 10. Za pomocą sns wyświetl wykres słupkowy, który przestawi prawdopodobieństwo przeżycia per każda płeć + słowne wnioski\n",
    "sns.barplot(x=\"Sex\", y=\"Survived\", data=data)\n",
    "\n",
    "# W 1912 roku nie istniało równouprawnienie"
   ]
  },
  {
   "cell_type": "code",
   "execution_count": 14,
   "metadata": {
    "id": "tZxKq6_aud8H"
   },
   "outputs": [
    {
     "data": {
      "text/plain": [
       "<AxesSubplot: xlabel='Pclass', ylabel='count'>"
      ]
     },
     "execution_count": 14,
     "metadata": {},
     "output_type": "execute_result"
    },
    {
     "data": {
      "image/png": "[encoded data removed]",
      "text/plain": [
       "<Figure size 640x480 with 1 Axes>"
      ]
     },
     "metadata": {},
     "output_type": "display_data"
    }
   ],
   "source": [
    "## Zad 11. Za pomocą sns na jednym wykresie słupkowym zlicz każdej Pclass ile osób przeżyło w podziale na płeć + słowne wnioski\n",
    "sns.countplot(x=\"Pclass\", hue=\"Sex\", data=data.loc[data[\"Survived\"] == 1])\n",
    "\n",
    "# Przeżyło więcej kobiet niż mężczyzn i więcej osób z klasy wyższej"
   ]
  },
  {
   "cell_type": "code",
   "execution_count": 15,
   "metadata": {
    "id": "qr68shbot15X"
   },
   "outputs": [
    {
     "data": {
      "text/plain": [
       "<seaborn.axisgrid.FacetGrid at 0x7fc8519bfa00>"
      ]
     },
     "execution_count": 15,
     "metadata": {},
     "output_type": "execute_result"
    },
    {
     "data": {
      "image/png": "[encoded data removed]",
      "text/plain": [
       "<Figure size 598x500 with 1 Axes>"
      ]
     },
     "metadata": {},
     "output_type": "display_data"
    }
   ],
   "source": [
    "## Zad 12. Za pomocą sns na jednym wykresie słupkowym pokaż dla każdej Pclass prawdopodobieństwo przeżycia w podziale na płeć + słowne wnioski\n",
    "sns.catplot(x=\"Pclass\", y=\"Survived\", hue=\"Sex\", kind=\"bar\", data=data)\n",
    "\n",
    "# Jak wyżej"
   ]
  },
  {
   "cell_type": "code",
   "execution_count": 16,
   "metadata": {
    "id": "-Fw4gYgUuwQ-"
   },
   "outputs": [
    {
     "data": {
      "text/plain": [
       "<AxesSubplot: xlabel='Age', ylabel='Survived'>"
      ]
     },
     "execution_count": 16,
     "metadata": {},
     "output_type": "execute_result"
    },
    {
     "data": {
      "image/png": "[encoded data removed]",
      "text/plain": [
       "<Figure size 640x480 with 1 Axes>"
      ]
     },
     "metadata": {},
     "output_type": "display_data"
    }
   ],
   "source": [
    "## Zad 13. Za pomocą sns wyświetl wykres słupkowy, który przestawi prawdopodobieństwo przeżycia per wiek + słowne wnioski\n",
    "sns.barplot(x=\"Age\", y=\"Survived\", data=data)\n",
    "\n",
    "# Najpierw ratowano dzieci i starszych"
   ]
  },
  {
   "cell_type": "code",
   "execution_count": 17,
   "metadata": {
    "id": "Vtgbsg8nu8u5"
   },
   "outputs": [],
   "source": [
    "## Zad. 14 Dodaj nową kolumnę AgeCat do df, która nada każdej osobie klasę \"adult\" lub \"child\"\n",
    "\n",
    "data[\"AgeCat\"] = data[\"Age\"].apply(lambda x: \"child\" if x < 18 else \"adult\")"
   ]
  },
  {
   "cell_type": "code",
   "execution_count": 18,
   "metadata": {
    "id": "skCJDqVlvTPj"
   },
   "outputs": [
    {
     "data": {
      "text/plain": [
       "<AxesSubplot: xlabel='AgeCat', ylabel='Survived'>"
      ]
     },
     "execution_count": 18,
     "metadata": {},
     "output_type": "execute_result"
    },
    {
     "data": {
      "image/png": "[encoded data removed]",
      "text/plain": [
       "<Figure size 640x480 with 1 Axes>"
      ]
     },
     "metadata": {},
     "output_type": "display_data"
    }
   ],
   "source": [
    "## Zad. 15 Na utworzonej wyżej kolumnie za pomocą sns przedstaw wykres przedstawiający prawdopodobieństwo przeżycia + słowne wnioski\n",
    "sns.barplot(x=\"AgeCat\", y=\"Survived\", data=data)\n",
    "\n",
    "# Większą szansę na przeżycie miały dzieci"
   ]
  },
  {
   "cell_type": "code",
   "execution_count": 19,
   "metadata": {
    "id": "VZXM_RM0vcz7"
   },
   "outputs": [
    {
     "data": {
      "text/plain": [
       "<seaborn.axisgrid.FacetGrid at 0x7fc85183beb0>"
      ]
     },
     "execution_count": 19,
     "metadata": {},
     "output_type": "execute_result"
    },
    {
     "data": {
      "image/png": "[encoded data removed]",
      "text/plain": [
       "<Figure size 558.875x500 with 1 Axes>"
      ]
     },
     "metadata": {},
     "output_type": "display_data"
    }
   ],
   "source": [
    "## Zad. 16 Do wyżej utworzonego wykresu w zadaniu 15 Dodaj jeszcze podział na Passanger Class + słowne wnioski\n",
    "sns.catplot(x=\"AgeCat\", y=\"Survived\", hue=\"Pclass\", kind=\"bar\", data=data)\n",
    "\n",
    "# Dzieci biednych były ratowane ostatnie"
   ]
  },
  {
   "cell_type": "code",
   "execution_count": 20,
   "metadata": {
    "id": "5kFyBmhwwM29"
   },
   "outputs": [
    {
     "data": {
      "text/plain": [
       "<AxesSubplot: xlabel='SibSp', ylabel='Count'>"
      ]
     },
     "execution_count": 20,
     "metadata": {},
     "output_type": "execute_result"
    },
    {
     "data": {
      "image/png": "[encoded data removed]",
      "text/plain": [
       "<Figure size 640x480 with 1 Axes>"
      ]
     },
     "metadata": {},
     "output_type": "display_data"
    }
   ],
   "source": [
    "## Zad 17. Za pomocą sns na jednym wykresie słupkowym zlicz liczbę osób, które miało poszczególną ilość Siblings/Spouses + słowne wnioski\n",
    "sns.histplot(x=\"SibSp\", data=data)\n",
    "\n",
    "# Znaczna większość osób była samotna"
   ]
  },
  {
   "cell_type": "code",
   "execution_count": 21,
   "metadata": {
    "id": "NbI6665swmXb"
   },
   "outputs": [
    {
     "data": {
      "text/plain": [
       "<seaborn.axisgrid.FacetGrid at 0x7fc8518a78b0>"
      ]
     },
     "execution_count": 21,
     "metadata": {},
     "output_type": "execute_result"
    },
    {
     "data": {
      "image/png": "[encoded data removed]",
      "text/plain": [
       "<Figure size 558.875x500 with 1 Axes>"
      ]
     },
     "metadata": {},
     "output_type": "display_data"
    }
   ],
   "source": [
    "## Zad. 18 Za pomocą sns na jednym wykresie słupkowym zlicz liczbę osób, które miało poszczególną ilość Siblings/Spouses w podziale na Pclass + słowne wnioski\n",
    "sns.catplot(x=\"SibSp\", hue=\"Pclass\", kind=\"count\", data=data)\n",
    "\n",
    "# Ludzie w klasie niższej mieli większe rodziny niż w wyższej"
   ]
  },
  {
   "cell_type": "code",
   "execution_count": 22,
   "metadata": {
    "id": "4VnNSceBxNup"
   },
   "outputs": [
    {
     "data": {
      "text/plain": [
       "<AxesSubplot: xlabel='Parch', ylabel='Count'>"
      ]
     },
     "execution_count": 22,
     "metadata": {},
     "output_type": "execute_result"
    },
    {
     "data": {
      "image/png": "[encoded data removed]",
      "text/plain": [
       "<Figure size 640x480 with 1 Axes>"
      ]
     },
     "metadata": {},
     "output_type": "display_data"
    }
   ],
   "source": [
    "## Zad 17. Za pomocą sns na jednym wykresie słupkowym zlicz liczbę osób, które miało poszczególną ilość Parents / Chindres (Parch) + słowne wnioski\n",
    "sns.histplot(x=\"Parch\", data=data)"
   ]
  },
  {
   "cell_type": "code",
   "execution_count": 23,
   "metadata": {
    "id": "VV-cUhruzQ_b"
   },
   "outputs": [],
   "source": [
    "## Zad. 18 Proszę sprawdzić, czy w w df znajdują się osoby, które mają taki sam numer biletu. Jeśli tak - proszę podzielić Fare przez odpowiednią liczbę osób (opłata za rejs) i zapisać w kolumnie FareCorr\n",
    "if not data[data.duplicated([\"Ticket\"], keep=False)].empty:\n",
    "    data[\"FareCorr\"] = data[\"Fare\"] / data.groupby(\"Ticket\")[\"Ticket\"].transform(\n",
    "        \"count\"\n",
    "    )"
   ]
  },
  {
   "cell_type": "code",
   "execution_count": 24,
   "metadata": {
    "id": "XYuQFXy50Fxk"
   },
   "outputs": [],
   "source": [
    "## Zad. 19 Proszę utworzyć nową kolumnę FareCat z etykietą per Fare \"low\" ,\"medium\", \"high\" w zależności od opłaty biletu 0,15, 65\n",
    "data[\"FareCat\"] = pd.cut(\n",
    "    data[\"Fare\"], bins=[0, 15, 65, np.inf], labels=[\"low\", \"medium\", \"high\"]\n",
    ")"
   ]
  },
  {
   "cell_type": "code",
   "execution_count": 25,
   "metadata": {
    "id": "9iOVeWNm0eF0"
   },
   "outputs": [
    {
     "data": {
      "text/plain": [
       "<AxesSubplot: xlabel='FareCat', ylabel='Survived'>"
      ]
     },
     "execution_count": 25,
     "metadata": {},
     "output_type": "execute_result"
    },
    {
     "data": {
      "image/png": "[encoded data removed]",
      "text/plain": [
       "<Figure size 640x480 with 1 Axes>"
      ]
     },
     "metadata": {},
     "output_type": "display_data"
    }
   ],
   "source": [
    "## Zad. 20 Za pomocą sns wyświetl wykres słupkowy, który przestawi prawdopodobieństwo przeżycia per FareCat + słowne wnioski\n",
    "sns.barplot(x=\"FareCat\", y=\"Survived\", data=data)\n",
    "\n",
    "# Wyższa opłata za bilet dawała większą szansę na przeżycie"
   ]
  },
  {
   "cell_type": "code",
   "execution_count": 26,
   "metadata": {
    "id": "PALXQ9tgsHac"
   },
   "outputs": [
    {
     "data": {
      "text/plain": [
       "<AxesSubplot: xlabel='Embarked', ylabel='Survived'>"
      ]
     },
     "execution_count": 26,
     "metadata": {},
     "output_type": "execute_result"
    },
    {
     "data": {
      "image/png": "[encoded data removed]",
      "text/plain": [
       "<Figure size 640x480 with 1 Axes>"
      ]
     },
     "metadata": {},
     "output_type": "display_data"
    }
   ],
   "source": [
    "## Zad. 21 Za pomocą sns wyświetl wykres słupkowy, który przestawi prawdopodobieństwo przeżycia per Embarked (port z którego wsiadał pasażer)\n",
    "sns.barplot(x=\"Embarked\", y=\"Survived\", data=data)\n",
    "\n",
    "# Większa szansa na przeżycie dla osób wsiadających w C"
   ]
  },
  {
   "cell_type": "code",
   "execution_count": 27,
   "metadata": {
    "id": "yKwjPr8qsQEi"
   },
   "outputs": [],
   "source": [
    "## Zad. 22 Proszę utworzyć nową kolumnę \"tytuł\", gdzie znajdą się np. Mr, Miss, Dr, Master\n",
    "data[\"title\"] = data[\"Name\"].str.extract(r\", ([A-Za-z ]+).\", expand=False)"
   ]
  },
  {
   "cell_type": "code",
   "execution_count": 28,
   "metadata": {
    "id": "nsniaQhWs0xs"
   },
   "outputs": [],
   "source": [
    "## Zad. 23 Na podstawie tytułu proszę uzupełnić wiersze, które mają puste pola w Age oraz AgeCat. Dla każdego z tytułu proszę policzyć medianę i taką wartością uzupełnić Nulle\n",
    "\n",
    "# First, get median age per title\n",
    "age_per_title = data.groupby(\"title\")[\"Age\"].median()\n",
    "\n",
    "# Second, fill nulls with median age per title\n",
    "data[\"Age\"] = data.apply(\n",
    "    lambda x: age_per_title[x[\"title\"]] if pd.isnull(x[\"Age\"]) else x[\"Age\"], axis=1\n",
    ")\n",
    "data[\"AgeCat\"] = data.apply(lambda x: \"child\" if x[\"Age\"] < 18 else \"adult\", axis=1)"
   ]
  },
  {
   "cell_type": "code",
   "execution_count": 29,
   "metadata": {
    "id": "0aEBr3-8tDxz"
   },
   "outputs": [],
   "source": [
    "## Zad. 24 Z kolumny tytuł proszę sprawdzić jaka głównie występuje płeć i uzupełnić Nulle w kolumnie płeć\n",
    "sex_per_title = data.groupby(\"title\")[\"Sex\"].apply(lambda x: x.mode()[0])\n",
    "\n",
    "data[\"Sex\"] = data.apply(\n",
    "    lambda x: sex_per_title[x[\"title\"]] if pd.isnull(x[\"Sex\"]) else x[\"Sex\"], axis=1\n",
    ")"
   ]
  },
  {
   "cell_type": "code",
   "execution_count": 30,
   "metadata": {
    "id": "Ylu2FAF6tPja"
   },
   "outputs": [],
   "source": [
    "## Zad. 25 Proszę utworzyć kolumnę familySize, gdzie nadadzą Państwo klasę \"small\", \"medium\", \"big\" na podstawie Parch, oraz Sib / Sp\n",
    "data[\"familySize\"] = pd.cut(\n",
    "    data[\"Parch\"] + data[\"SibSp\"],\n",
    "    bins=[-1, 3, 5, np.inf],\n",
    "    labels=[\"small\", \"medium\", \"big\"],\n",
    ")"
   ]
  },
  {
   "cell_type": "code",
   "execution_count": 31,
   "metadata": {
    "id": "IPrctMoUt3hi"
   },
   "outputs": [
    {
     "data": {
      "text/plain": [
       "<AxesSubplot: xlabel='familySize', ylabel='Survived'>"
      ]
     },
     "execution_count": 31,
     "metadata": {},
     "output_type": "execute_result"
    },
    {
     "data": {
      "image/png": "[encoded data removed]",
      "text/plain": [
       "<Figure size 640x480 with 1 Axes>"
      ]
     },
     "metadata": {},
     "output_type": "display_data"
    }
   ],
   "source": [
    "## Zad. 26 Na podstawie utworzonej kolumny w zadaniu 25 proszę o utworzenie wykresu, którzy przedstawi szanse na przeżycie\n",
    "sns.barplot(x=\"familySize\", y=\"Survived\", data=data)"
   ]
  },
  {
   "cell_type": "code",
   "execution_count": 32,
   "metadata": {
    "id": "njddwOT_uBEd"
   },
   "outputs": [],
   "source": [
    "## Zad. 27 Proszę uzupełnić kolumnę Nulle w Embarked najczęstszą wartością występującą w df\n",
    "\n",
    "data[\"Embarked\"] = data[\"Embarked\"].fillna(data[\"Embarked\"].mode()[0])"
   ]
  },
  {
   "cell_type": "code",
   "execution_count": 33,
   "metadata": {},
   "outputs": [],
   "source": [
    "data2 = data.copy()"
   ]
  },
  {
   "cell_type": "code",
   "execution_count": 34,
   "metadata": {},
   "outputs": [],
   "source": [
    "# Zad. 1 Za pomocą funkcji pandas qcut, proszę nadać klasy od 1 do 7 dla kolumny Age\n",
    "\n",
    "data2['AgeClass'] = pd.qcut(data['Age'], 7)\n",
    "data2['AgeClass'] = data2['AgeClass'].cat.codes + 1"
   ]
  },
  {
   "cell_type": "code",
   "execution_count": 35,
   "metadata": {},
   "outputs": [],
   "source": [
    "# Zad. 2 Dla kolumny zawierającej opłaty za bilet dla 1 osoby, prosze nadać klasy od 1 do 7\n",
    "# jak w powyższym zadaniu\n",
    "\n",
    "data2['FareClass'] = pd.qcut(data['FareCorr'], 7)\n",
    "data2['FareClass'] = data2['FareClass'].cat.codes + 1"
   ]
  },
  {
   "cell_type": "code",
   "execution_count": 36,
   "metadata": {},
   "outputs": [],
   "source": [
    "# Zad. 3 Proszę zmienić płeć na 0 i 1\n",
    "\n",
    "data2['IsMale'] = data['Sex'].apply(lambda x: 1 if x == 'male' else 0)\n",
    "data2['IsFemale'] = data['Sex'].apply(lambda x: 1 if x == 'female' else 0)"
   ]
  },
  {
   "cell_type": "code",
   "execution_count": 37,
   "metadata": {},
   "outputs": [],
   "source": [
    "# Zad. 5 Proszę wybrać ze wszystkich kolumn (oryginalnych i dodanych) 6, które najlepiej\n",
    "# korelują z Survive\n",
    "\n",
    "data2.corr(numeric_only=True)['Survived'].sort_values(ascending=False, key=abs)\n",
    "\n",
    "df_prep = data2[['Survived', 'Pclass', 'Sex', 'FareCorr', 'Age', 'familySize', 'Embarked']]"
   ]
  },
  {
   "cell_type": "code",
   "execution_count": 38,
   "metadata": {},
   "outputs": [],
   "source": [
    "def one_hot_encode(df: pd.DataFrame, column_name: str):\n",
    "    dummies = pd.get_dummies(df[column_name], prefix=column_name)\n",
    "    df = pd.concat([df, dummies], axis=1)\n",
    "    return df"
   ]
  },
  {
   "cell_type": "code",
   "execution_count": 39,
   "metadata": {},
   "outputs": [],
   "source": [
    "# Zad. 6 proszę wykonać One-Hot encoding na kolumnach, które zawierają dane tekstowe\n",
    "# bądź kategorie (np. klasa pasażerska lub klasa płci)\n",
    "df_prep = one_hot_encode(df_prep, 'Sex')\n",
    "df_prep = one_hot_encode(df_prep, 'familySize')\n",
    "df_prep = one_hot_encode(df_prep, 'Embarked')\n",
    "df_prep = one_hot_encode(df_prep, 'Pclass')"
   ]
  },
  {
   "cell_type": "code",
   "execution_count": 40,
   "metadata": {},
   "outputs": [],
   "source": [
    "def scale(df: pd.DataFrame, column_name: str):\n",
    "    df[column_name] = (df[column_name] - df[column_name].mean()) / df[column_name].std()\n",
    "    return df"
   ]
  },
  {
   "cell_type": "code",
   "execution_count": 41,
   "metadata": {},
   "outputs": [],
   "source": [
    "# Zad. 7 Proszę przeskalować dane numeryczne aby mieściły się w zakresie -1 a 1\n",
    "\n",
    "df_prep = scale(df_prep, 'FareCorr')\n",
    "df_prep = scale(df_prep, 'Age')"
   ]
  },
  {
   "cell_type": "code",
   "execution_count": 42,
   "metadata": {},
   "outputs": [
    {
     "data": {
      "text/html": [
       "<div>\n",
       "<style scoped>\n",
       "    .dataframe tbody tr th:only-of-type {\n",
       "        vertical-align: middle;\n",
       "    }\n",
       "\n",
       "    .dataframe tbody tr th {\n",
       "        vertical-align: top;\n",
       "    }\n",
       "\n",
       "    .dataframe thead th {\n",
       "        text-align: right;\n",
       "    }\n",
       "</style>\n",
       "<table border=\"1\" class=\"dataframe\">\n",
       "  <thead>\n",
       "    <tr style=\"text-align: right;\">\n",
       "      <th></th>\n",
       "      <th>Survived</th>\n",
       "      <th>FareCorr</th>\n",
       "      <th>Age</th>\n",
       "      <th>Sex_female</th>\n",
       "      <th>Sex_male</th>\n",
       "      <th>familySize_small</th>\n",
       "      <th>familySize_medium</th>\n",
       "      <th>familySize_big</th>\n",
       "      <th>Embarked_C</th>\n",
       "      <th>Embarked_Q</th>\n",
       "      <th>Embarked_S</th>\n",
       "      <th>Pclass_1</th>\n",
       "      <th>Pclass_2</th>\n",
       "      <th>Pclass_3</th>\n",
       "    </tr>\n",
       "  </thead>\n",
       "  <tbody>\n",
       "    <tr>\n",
       "      <th>0</th>\n",
       "      <td>0</td>\n",
       "      <td>-0.496697</td>\n",
       "      <td>-0.557107</td>\n",
       "      <td>0</td>\n",
       "      <td>1</td>\n",
       "      <td>1</td>\n",
       "      <td>0</td>\n",
       "      <td>0</td>\n",
       "      <td>0</td>\n",
       "      <td>0</td>\n",
       "      <td>1</td>\n",
       "      <td>0</td>\n",
       "      <td>0</td>\n",
       "      <td>1</td>\n",
       "    </tr>\n",
       "    <tr>\n",
       "      <th>1</th>\n",
       "      <td>1</td>\n",
       "      <td>2.521157</td>\n",
       "      <td>0.649046</td>\n",
       "      <td>1</td>\n",
       "      <td>0</td>\n",
       "      <td>1</td>\n",
       "      <td>0</td>\n",
       "      <td>0</td>\n",
       "      <td>1</td>\n",
       "      <td>0</td>\n",
       "      <td>0</td>\n",
       "      <td>1</td>\n",
       "      <td>0</td>\n",
       "      <td>0</td>\n",
       "    </tr>\n",
       "    <tr>\n",
       "      <th>2</th>\n",
       "      <td>1</td>\n",
       "      <td>-0.464884</td>\n",
       "      <td>-0.255569</td>\n",
       "      <td>1</td>\n",
       "      <td>0</td>\n",
       "      <td>1</td>\n",
       "      <td>0</td>\n",
       "      <td>0</td>\n",
       "      <td>0</td>\n",
       "      <td>0</td>\n",
       "      <td>1</td>\n",
       "      <td>0</td>\n",
       "      <td>0</td>\n",
       "      <td>1</td>\n",
       "    </tr>\n",
       "    <tr>\n",
       "      <th>3</th>\n",
       "      <td>1</td>\n",
       "      <td>0.412902</td>\n",
       "      <td>0.422892</td>\n",
       "      <td>1</td>\n",
       "      <td>0</td>\n",
       "      <td>1</td>\n",
       "      <td>0</td>\n",
       "      <td>0</td>\n",
       "      <td>0</td>\n",
       "      <td>0</td>\n",
       "      <td>1</td>\n",
       "      <td>1</td>\n",
       "      <td>0</td>\n",
       "      <td>0</td>\n",
       "    </tr>\n",
       "    <tr>\n",
       "      <th>4</th>\n",
       "      <td>0</td>\n",
       "      <td>-0.458993</td>\n",
       "      <td>0.422892</td>\n",
       "      <td>0</td>\n",
       "      <td>1</td>\n",
       "      <td>1</td>\n",
       "      <td>0</td>\n",
       "      <td>0</td>\n",
       "      <td>0</td>\n",
       "      <td>0</td>\n",
       "      <td>1</td>\n",
       "      <td>0</td>\n",
       "      <td>0</td>\n",
       "      <td>1</td>\n",
       "    </tr>\n",
       "    <tr>\n",
       "      <th>...</th>\n",
       "      <td>...</td>\n",
       "      <td>...</td>\n",
       "      <td>...</td>\n",
       "      <td>...</td>\n",
       "      <td>...</td>\n",
       "      <td>...</td>\n",
       "      <td>...</td>\n",
       "      <td>...</td>\n",
       "      <td>...</td>\n",
       "      <td>...</td>\n",
       "      <td>...</td>\n",
       "      <td>...</td>\n",
       "      <td>...</td>\n",
       "      <td>...</td>\n",
       "    </tr>\n",
       "    <tr>\n",
       "      <th>886</th>\n",
       "      <td>0</td>\n",
       "      <td>-0.225702</td>\n",
       "      <td>-0.180184</td>\n",
       "      <td>0</td>\n",
       "      <td>1</td>\n",
       "      <td>1</td>\n",
       "      <td>0</td>\n",
       "      <td>0</td>\n",
       "      <td>0</td>\n",
       "      <td>0</td>\n",
       "      <td>1</td>\n",
       "      <td>0</td>\n",
       "      <td>1</td>\n",
       "      <td>0</td>\n",
       "    </tr>\n",
       "    <tr>\n",
       "      <th>887</th>\n",
       "      <td>1</td>\n",
       "      <td>0.575498</td>\n",
       "      <td>-0.783260</td>\n",
       "      <td>1</td>\n",
       "      <td>0</td>\n",
       "      <td>1</td>\n",
       "      <td>0</td>\n",
       "      <td>0</td>\n",
       "      <td>0</td>\n",
       "      <td>0</td>\n",
       "      <td>1</td>\n",
       "      <td>1</td>\n",
       "      <td>0</td>\n",
       "      <td>0</td>\n",
       "    </tr>\n",
       "    <tr>\n",
       "      <th>888</th>\n",
       "      <td>0</td>\n",
       "      <td>-0.285792</td>\n",
       "      <td>-0.632491</td>\n",
       "      <td>1</td>\n",
       "      <td>0</td>\n",
       "      <td>1</td>\n",
       "      <td>0</td>\n",
       "      <td>0</td>\n",
       "      <td>0</td>\n",
       "      <td>0</td>\n",
       "      <td>1</td>\n",
       "      <td>0</td>\n",
       "      <td>0</td>\n",
       "      <td>1</td>\n",
       "    </tr>\n",
       "    <tr>\n",
       "      <th>889</th>\n",
       "      <td>1</td>\n",
       "      <td>0.575498</td>\n",
       "      <td>-0.255569</td>\n",
       "      <td>0</td>\n",
       "      <td>1</td>\n",
       "      <td>1</td>\n",
       "      <td>0</td>\n",
       "      <td>0</td>\n",
       "      <td>1</td>\n",
       "      <td>0</td>\n",
       "      <td>0</td>\n",
       "      <td>1</td>\n",
       "      <td>0</td>\n",
       "      <td>0</td>\n",
       "    </tr>\n",
       "    <tr>\n",
       "      <th>890</th>\n",
       "      <td>0</td>\n",
       "      <td>-0.473132</td>\n",
       "      <td>0.196738</td>\n",
       "      <td>0</td>\n",
       "      <td>1</td>\n",
       "      <td>1</td>\n",
       "      <td>0</td>\n",
       "      <td>0</td>\n",
       "      <td>0</td>\n",
       "      <td>1</td>\n",
       "      <td>0</td>\n",
       "      <td>0</td>\n",
       "      <td>0</td>\n",
       "      <td>1</td>\n",
       "    </tr>\n",
       "  </tbody>\n",
       "</table>\n",
       "<p>891 rows × 14 columns</p>\n",
       "</div>"
      ],
      "text/plain": [
       "     Survived  FareCorr       Age  Sex_female  Sex_male  familySize_small  \\\n",
       "0           0 -0.496697 -0.557107           0         1                 1   \n",
       "1           1  2.521157  0.649046           1         0                 1   \n",
       "2           1 -0.464884 -0.255569           1         0                 1   \n",
       "3           1  0.412902  0.422892           1         0                 1   \n",
       "4           0 -0.458993  0.422892           0         1                 1   \n",
       "..        ...       ...       ...         ...       ...               ...   \n",
       "886         0 -0.225702 -0.180184           0         1                 1   \n",
       "887         1  0.575498 -0.783260           1         0                 1   \n",
       "888         0 -0.285792 -0.632491           1         0                 1   \n",
       "889         1  0.575498 -0.255569           0         1                 1   \n",
       "890         0 -0.473132  0.196738           0         1                 1   \n",
       "\n",
       "     familySize_medium  familySize_big  Embarked_C  Embarked_Q  Embarked_S  \\\n",
       "0                    0               0           0           0           1   \n",
       "1                    0               0           1           0           0   \n",
       "2                    0               0           0           0           1   \n",
       "3                    0               0           0           0           1   \n",
       "4                    0               0           0           0           1   \n",
       "..                 ...             ...         ...         ...         ...   \n",
       "886                  0               0           0           0           1   \n",
       "887                  0               0           0           0           1   \n",
       "888                  0               0           0           0           1   \n",
       "889                  0               0           1           0           0   \n",
       "890                  0               0           0           1           0   \n",
       "\n",
       "     Pclass_1  Pclass_2  Pclass_3  \n",
       "0           0         0         1  \n",
       "1           1         0         0  \n",
       "2           0         0         1  \n",
       "3           1         0         0  \n",
       "4           0         0         1  \n",
       "..        ...       ...       ...  \n",
       "886         0         1         0  \n",
       "887         1         0         0  \n",
       "888         0         0         1  \n",
       "889         1         0         0  \n",
       "890         0         0         1  \n",
       "\n",
       "[891 rows x 14 columns]"
      ]
     },
     "execution_count": 42,
     "metadata": {},
     "output_type": "execute_result"
    }
   ],
   "source": [
    "df = df_prep.drop(columns=['Sex', 'familySize', 'Embarked', 'Pclass'], errors='ignore')\n",
    "df"
   ]
  },
  {
   "cell_type": "code",
   "execution_count": 43,
   "metadata": {},
   "outputs": [
    {
     "name": "stderr",
     "output_type": "stream",
     "text": [
      "2023-01-17 20:27:09.092205: I tensorflow/core/platform/cpu_feature_guard.cc:193] This TensorFlow binary is optimized with oneAPI Deep Neural Network Library (oneDNN) to use the following CPU instructions in performance-critical operations:  AVX2 FMA\n",
      "To enable them in other operations, rebuild TensorFlow with the appropriate compiler flags.\n",
      "2023-01-17 20:27:09.970316: W tensorflow/compiler/xla/stream_executor/platform/default/dso_loader.cc:64] Could not load dynamic library 'libcudart.so.11.0'; dlerror: libcudart.so.11.0: cannot open shared object file: No such file or directory\n",
      "2023-01-17 20:27:09.970391: I tensorflow/compiler/xla/stream_executor/cuda/cudart_stub.cc:29] Ignore above cudart dlerror if you do not have a GPU set up on your machine.\n",
      "2023-01-17 20:27:14.657842: W tensorflow/compiler/xla/stream_executor/platform/default/dso_loader.cc:64] Could not load dynamic library 'libnvinfer.so.7'; dlerror: libnvinfer.so.7: cannot open shared object file: No such file or directory\n",
      "2023-01-17 20:27:14.658384: W tensorflow/compiler/xla/stream_executor/platform/default/dso_loader.cc:64] Could not load dynamic library 'libnvinfer_plugin.so.7'; dlerror: libnvinfer_plugin.so.7: cannot open shared object file: No such file or directory\n",
      "2023-01-17 20:27:14.658421: W tensorflow/compiler/tf2tensorrt/utils/py_utils.cc:38] TF-TRT Warning: Cannot dlopen some TensorRT libraries. If you would like to use Nvidia GPU with TensorRT, please make sure the missing libraries mentioned above are installed properly.\n"
     ]
    }
   ],
   "source": [
    "import tensorflow as tf\n",
    "from tensorflow import keras\n",
    "from sklearn.model_selection import train_test_split"
   ]
  },
  {
   "cell_type": "code",
   "execution_count": 52,
   "metadata": {},
   "outputs": [],
   "source": [
    "# Zad. 8 Prosze za pomocą Keras stworzyć model sekwencyjny (przy pomocy dokumentacji\n",
    "# keras) z trzema warstwami\n",
    "\n",
    "X = df.drop(columns=['Survived'])\n",
    "y = df['Survived']\n",
    "\n",
    "model = keras.Sequential([\n",
    "    keras.layers.Dense(4, activation=tf.nn.relu, input_shape=[len(X.columns)]),\n",
    "    keras.layers.Dense(6, activation=tf.nn.relu),\n",
    "    keras.layers.Dense(1, activation=tf.nn.sigmoid)\n",
    "])"
   ]
  },
  {
   "cell_type": "code",
   "execution_count": 54,
   "metadata": {},
   "outputs": [],
   "source": [
    "# Zad. 9 Proszę skompilować model\n",
    "model.compile(optimizer='adam', loss='binary_crossentropy', metrics=['accuracy'])"
   ]
  },
  {
   "cell_type": "code",
   "execution_count": 55,
   "metadata": {},
   "outputs": [],
   "source": [
    "# Zad. 10 Proszę podzielić dane na zbiór testowy oraz trenujący\n",
    "X_train, X_test, y_train, y_test = train_test_split(X, y, test_size=0.2)"
   ]
  },
  {
   "cell_type": "code",
   "execution_count": 56,
   "metadata": {},
   "outputs": [
    {
     "data": {
      "text/plain": [
       "<keras.callbacks.History at 0x7fc80abf5780>"
      ]
     },
     "execution_count": 56,
     "metadata": {},
     "output_type": "execute_result"
    }
   ],
   "source": [
    "# Zad. 11 proszę wytrenować model na danych treningowych\n",
    "\n",
    "model.fit(X_train, y_train, epochs=100, verbose=0)"
   ]
  },
  {
   "cell_type": "code",
   "execution_count": 57,
   "metadata": {},
   "outputs": [
    {
     "name": "stdout",
     "output_type": "stream",
     "text": [
      "6/6 [==============================] - 1s 10ms/step - loss: 0.3915\n"
     ]
    },
    {
     "data": {
      "text/plain": [
       "0.39146503806114197"
      ]
     },
     "execution_count": 57,
     "metadata": {},
     "output_type": "execute_result"
    }
   ],
   "source": [
    "# Zad. 12 Proszę dokonać ewaluacji modelu\n",
    "\n",
    "model.evaluate(X_test, y_test)"
   ]
  },
  {
   "cell_type": "code",
   "execution_count": 49,
   "metadata": {},
   "outputs": [
    {
     "data": {
      "text/plain": [
       "0.8156424760818481"
      ]
     },
     "execution_count": 49,
     "metadata": {},
     "output_type": "execute_result"
    }
   ],
   "source": [
    "# Zad. 13 Proszę zmienić parametry modelu (zmienić np. liczbę warstw, wierzchołków,\n",
    "# learning rate) i wybrać ten, który ma najlepsze wyniki\n",
    "X2 = df.drop(columns=['Survived'])\n",
    "y2 = df['Survived']\n",
    "\n",
    "X2_train, X2_test, y2_train, y2_test = train_test_split(X2, y2, test_size=0.2)\n",
    "\n",
    "model2 = keras.Sequential([\n",
    "    keras.layers.Dense(3, activation=tf.nn.relu, input_shape=[len(X.columns)]),\n",
    "    keras.layers.Dense(5, activation=tf.nn.relu),\n",
    "    keras.layers.Dense(4, activation=tf.nn.relu),\n",
    "    keras.layers.Dense(1, activation=tf.nn.sigmoid)\n",
    "])\n",
    "\n",
    "model2.compile(optimizer='adam', loss='binary_crossentropy', metrics=['accuracy'])\n",
    "model2.fit(X2_train, y2_train, epochs=200, verbose=0, workers=4, use_multiprocessing=True)\n",
    "model2.evaluate(X2_test, y2_test, verbose=0)[1]"
   ]
  },
  {
   "cell_type": "code",
   "execution_count": 50,
   "metadata": {},
   "outputs": [
    {
     "name": "stdout",
     "output_type": "stream",
     "text": [
      "6/6 [==============================] - 0s 5ms/step\n"
     ]
    },
    {
     "data": {
      "text/plain": [
       "array([[0.8590235 ],\n",
       "       [0.14745899],\n",
       "       [0.14745899],\n",
       "       [0.14745899],\n",
       "       [0.14745899],\n",
       "       [0.14745899],\n",
       "       [0.893037  ],\n",
       "       [0.14745899],\n",
       "       [0.14745899],\n",
       "       [0.14745899],\n",
       "       [0.67092323],\n",
       "       [0.38088885],\n",
       "       [0.92590994],\n",
       "       [0.14745899],\n",
       "       [0.14745899],\n",
       "       [0.92209995],\n",
       "       [0.14745899],\n",
       "       [0.5214441 ],\n",
       "       [0.96530515],\n",
       "       [0.14745899],\n",
       "       [0.9576103 ],\n",
       "       [0.14745899],\n",
       "       [0.14745899],\n",
       "       [0.39640376],\n",
       "       [0.14745899],\n",
       "       [0.17750435],\n",
       "       [0.4136212 ],\n",
       "       [0.30201465],\n",
       "       [0.18559554],\n",
       "       [0.14745899],\n",
       "       [0.42686585],\n",
       "       [0.14745899],\n",
       "       [0.14745899],\n",
       "       [0.17863978],\n",
       "       [0.97645515],\n",
       "       [0.14745899],\n",
       "       [0.8940974 ],\n",
       "       [0.14745899],\n",
       "       [0.96126467],\n",
       "       [0.98305804],\n",
       "       [0.2073232 ],\n",
       "       [0.14745899],\n",
       "       [0.14745899],\n",
       "       [0.5071871 ],\n",
       "       [0.38869828],\n",
       "       [0.14745899],\n",
       "       [0.14745899],\n",
       "       [0.14745899],\n",
       "       [0.14745899],\n",
       "       [0.14745899],\n",
       "       [0.3381263 ],\n",
       "       [0.49340156],\n",
       "       [0.5731468 ],\n",
       "       [0.5500329 ],\n",
       "       [0.14745899],\n",
       "       [0.14745899],\n",
       "       [0.21278289],\n",
       "       [0.14745899],\n",
       "       [0.14745899],\n",
       "       [0.22909513],\n",
       "       [0.946682  ],\n",
       "       [0.92926055],\n",
       "       [0.54802746],\n",
       "       [0.14745899],\n",
       "       [0.14745899],\n",
       "       [0.9536276 ],\n",
       "       [0.14745899],\n",
       "       [0.14745899],\n",
       "       [0.7023662 ],\n",
       "       [0.14745899],\n",
       "       [0.14745899],\n",
       "       [0.14745899],\n",
       "       [0.14745899],\n",
       "       [0.8960382 ],\n",
       "       [0.9269241 ],\n",
       "       [0.8820903 ],\n",
       "       [0.14745899],\n",
       "       [0.14745899],\n",
       "       [0.14745899],\n",
       "       [0.14745899],\n",
       "       [0.2007148 ],\n",
       "       [0.9645678 ],\n",
       "       [0.14745899],\n",
       "       [0.14745899],\n",
       "       [0.17401911],\n",
       "       [0.51805526],\n",
       "       [0.23257175],\n",
       "       [0.28647798],\n",
       "       [0.14745899],\n",
       "       [0.14745899],\n",
       "       [0.14745899],\n",
       "       [0.4137908 ],\n",
       "       [0.89435756],\n",
       "       [0.14745899],\n",
       "       [0.2854008 ],\n",
       "       [0.14745899],\n",
       "       [0.4005243 ],\n",
       "       [0.14745899],\n",
       "       [0.5373054 ],\n",
       "       [0.14745899],\n",
       "       [0.93355304],\n",
       "       [0.14745899],\n",
       "       [0.14745899],\n",
       "       [0.14745899],\n",
       "       [0.33696485],\n",
       "       [0.47988737],\n",
       "       [0.14745899],\n",
       "       [0.494798  ],\n",
       "       [0.14745899],\n",
       "       [0.14745899],\n",
       "       [0.9487746 ],\n",
       "       [0.92789006],\n",
       "       [0.14745899],\n",
       "       [0.551152  ],\n",
       "       [0.9474807 ],\n",
       "       [0.14745899],\n",
       "       [0.14745899],\n",
       "       [0.18484834],\n",
       "       [0.45204732],\n",
       "       [0.14745899],\n",
       "       [0.55217797],\n",
       "       [0.14745899],\n",
       "       [0.6048878 ],\n",
       "       [0.14745899],\n",
       "       [0.9288064 ],\n",
       "       [0.14767723],\n",
       "       [0.14745899],\n",
       "       [0.14745899],\n",
       "       [0.5890321 ],\n",
       "       [0.14745899],\n",
       "       [0.20624754],\n",
       "       [0.4177954 ],\n",
       "       [0.14745899],\n",
       "       [0.14745899],\n",
       "       [0.9057186 ],\n",
       "       [0.91499627],\n",
       "       [0.14745899],\n",
       "       [0.60827076],\n",
       "       [0.14745899],\n",
       "       [0.14745899],\n",
       "       [0.14745899],\n",
       "       [0.14745899],\n",
       "       [0.9699983 ],\n",
       "       [0.93114597],\n",
       "       [0.96250695],\n",
       "       [0.14745899],\n",
       "       [0.75999016],\n",
       "       [0.15673006],\n",
       "       [0.9730195 ],\n",
       "       [0.9732332 ],\n",
       "       [0.5621665 ],\n",
       "       [0.20234966],\n",
       "       [0.76978296],\n",
       "       [0.14745899],\n",
       "       [0.14745899],\n",
       "       [0.77002555],\n",
       "       [0.14745899],\n",
       "       [0.589529  ],\n",
       "       [0.93534195],\n",
       "       [0.14745899],\n",
       "       [0.14745899],\n",
       "       [0.14745899],\n",
       "       [0.14745899],\n",
       "       [0.14745899],\n",
       "       [0.9578992 ],\n",
       "       [0.14745899],\n",
       "       [0.6659018 ],\n",
       "       [0.7729018 ],\n",
       "       [0.58778864],\n",
       "       [0.95848554],\n",
       "       [0.14745899],\n",
       "       [0.29170212],\n",
       "       [0.92630506],\n",
       "       [0.14745899],\n",
       "       [0.21879861],\n",
       "       [0.14745899],\n",
       "       [0.20913361],\n",
       "       [0.9432743 ],\n",
       "       [0.8918691 ]], dtype=float32)"
      ]
     },
     "execution_count": 50,
     "metadata": {},
     "output_type": "execute_result"
    }
   ],
   "source": [
    "# Zad. 14 Proszę wykonać predykcję za pomocą modelu na danych testowych\n",
    "model2.predict(X_test)"
   ]
  },
  {
   "cell_type": "code",
   "execution_count": 51,
   "metadata": {},
   "outputs": [],
   "source": [
    "# Zad. 15 Prosze zapisać wytrenowany model w formacie h5\n",
    "\n",
    "model2.save('model.h5')"
   ]
  }
 ],
 "metadata": {
  "colab": {
   "provenance": []
  },
  "kernelspec": {
   "display_name": "jupyter",
   "language": "python",
   "name": "python3"
  },
  "language_info": {
   "codemirror_mode": {
    "name": "ipython",
    "version": 3
   },
   "file_extension": ".py",
   "mimetype": "text/x-python",
   "name": "python",
   "nbconvert_exporter": "python",
   "pygments_lexer": "ipython3",
   "version": "3.10.9"
  },
  "vscode": {
   "interpreter": {
    "hash": "937fd162430f1b87811f1f9df4c35a7a64934f252da8b4f0cc9ac667595c75fc"
   }
  }
 },
 "nbformat": 4,
 "nbformat_minor": 0
}
